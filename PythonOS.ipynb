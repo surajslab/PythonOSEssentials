{
  "nbformat": 4,
  "nbformat_minor": 0,
  "metadata": {
    "colab": {
      "name": "PythonOS.ipynb",
      "provenance": [],
      "authorship_tag": "ABX9TyOU/CSVL8/k9WACOgREX+3P",
      "include_colab_link": true
    },
    "kernelspec": {
      "name": "python3",
      "display_name": "Python 3"
    },
    "language_info": {
      "name": "python"
    }
  },
  "cells": [
    {
      "cell_type": "markdown",
      "metadata": {
        "id": "view-in-github",
        "colab_type": "text"
      },
      "source": [
        "<a href=\"https://colab.research.google.com/github/surajslab/PythonOSEssentials/blob/main/PythonOS.ipynb\" target=\"_parent\"><img src=\"https://colab.research.google.com/assets/colab-badge.svg\" alt=\"Open In Colab\"/></a>"
      ]
    },
    {
      "cell_type": "code",
      "metadata": {
        "id": "2lGvE7j8l6UR"
      },
      "source": [
        "import os"
      ],
      "execution_count": 1,
      "outputs": []
    },
    {
      "cell_type": "markdown",
      "metadata": {
        "id": "dnWSDAsdmAt_"
      },
      "source": [
        "Getting the current working directory."
      ]
    },
    {
      "cell_type": "code",
      "metadata": {
        "colab": {
          "base_uri": "https://localhost:8080/",
          "height": 35
        },
        "id": "nRd1v62ol_by",
        "outputId": "83fa8ad2-afa6-4b6c-d185-e560728545b3"
      },
      "source": [
        "os.getcwd()"
      ],
      "execution_count": 2,
      "outputs": [
        {
          "output_type": "execute_result",
          "data": {
            "application/vnd.google.colaboratory.intrinsic+json": {
              "type": "string"
            },
            "text/plain": [
              "'/content'"
            ]
          },
          "metadata": {},
          "execution_count": 2
        }
      ]
    },
    {
      "cell_type": "markdown",
      "metadata": {
        "id": "OKA11Fi3mfWZ"
      },
      "source": [
        "Making directories."
      ]
    },
    {
      "cell_type": "code",
      "metadata": {
        "id": "VoP2EhxrmICl"
      },
      "source": [
        "os.makedirs(\"./data\")"
      ],
      "execution_count": 3,
      "outputs": []
    },
    {
      "cell_type": "code",
      "metadata": {
        "colab": {
          "base_uri": "https://localhost:8080/"
        },
        "id": "fgyfODRymN4X",
        "outputId": "4fdea985-065a-44b7-f890-6eb58bde3fe0"
      },
      "source": [
        "os.listdir()"
      ],
      "execution_count": 4,
      "outputs": [
        {
          "output_type": "execute_result",
          "data": {
            "text/plain": [
              "['.config', 'data', 'sample_data']"
            ]
          },
          "metadata": {},
          "execution_count": 4
        }
      ]
    },
    {
      "cell_type": "code",
      "metadata": {
        "id": "SLh_ilqVmSHb"
      },
      "source": [
        "os.makedirs(\"./data/check\")"
      ],
      "execution_count": 5,
      "outputs": []
    },
    {
      "cell_type": "code",
      "metadata": {
        "colab": {
          "base_uri": "https://localhost:8080/"
        },
        "id": "2XKYvoSImdD3",
        "outputId": "9f4fdf3a-f151-4343-d05f-2f816250d4c3"
      },
      "source": [
        "os.listdir(\"./data\")"
      ],
      "execution_count": 6,
      "outputs": [
        {
          "output_type": "execute_result",
          "data": {
            "text/plain": [
              "['check']"
            ]
          },
          "metadata": {},
          "execution_count": 6
        }
      ]
    },
    {
      "cell_type": "markdown",
      "metadata": {
        "id": "x7Lm_nA4mobs"
      },
      "source": [
        "Creating a file inside the check folder"
      ]
    },
    {
      "cell_type": "code",
      "metadata": {
        "id": "6a0FcOgcmjkQ"
      },
      "source": [
        "with open(\"data/new.txt\", \"x\") as file:\n",
        "  pass\n"
      ],
      "execution_count": 7,
      "outputs": []
    },
    {
      "cell_type": "markdown",
      "metadata": {
        "id": "XDZUs2ZRn_H6"
      },
      "source": [
        "Checking weather a file exist or not."
      ]
    },
    {
      "cell_type": "code",
      "metadata": {
        "colab": {
          "base_uri": "https://localhost:8080/"
        },
        "id": "BZZDHgQpnEoj",
        "outputId": "1647c881-4605-439a-f57d-bb62309d368a"
      },
      "source": [
        "\"new.txt\" in os.listdir(\"./data\")"
      ],
      "execution_count": 8,
      "outputs": [
        {
          "output_type": "execute_result",
          "data": {
            "text/plain": [
              "True"
            ]
          },
          "metadata": {},
          "execution_count": 8
        }
      ]
    },
    {
      "cell_type": "markdown",
      "metadata": {
        "id": "LJiGzQ9CoRk5"
      },
      "source": [
        "Reading and writing to a file in directory data"
      ]
    },
    {
      "cell_type": "code",
      "metadata": {
        "colab": {
          "base_uri": "https://localhost:8080/"
        },
        "id": "8L5YVfHLn8Sa",
        "outputId": "93e2c0da-4b06-4aec-b592-590492f38e31"
      },
      "source": [
        "with open(\"data/new.txt\", \"w\") as file:\n",
        "  file.write(\"hi\")\n",
        "\n",
        "with open(\"data/new.txt\") as file:\n",
        "  data=file.readlines()\n",
        "\n",
        "data"
      ],
      "execution_count": 9,
      "outputs": [
        {
          "output_type": "execute_result",
          "data": {
            "text/plain": [
              "['hi']"
            ]
          },
          "metadata": {},
          "execution_count": 9
        }
      ]
    },
    {
      "cell_type": "code",
      "metadata": {
        "id": "Z4aN303DoPm5"
      },
      "source": [
        "url1 = 'https://gist.githubusercontent.com/aakashns/257f6e6c8719c17d0e498ea287d1a386/raw/7def9ef4234ddf0bc82f855ad67dac8b971852ef/loans1.txt'\n",
        "url2 = 'https://gist.githubusercontent.com/aakashns/257f6e6c8719c17d0e498ea287d1a386/raw/7def9ef4234ddf0bc82f855ad67dac8b971852ef/loans2.txt'\n",
        "url3 = 'https://gist.githubusercontent.com/aakashns/257f6e6c8719c17d0e498ea287d1a386/raw/7def9ef4234ddf0bc82f855ad67dac8b971852ef/loans3.txt'"
      ],
      "execution_count": 10,
      "outputs": []
    },
    {
      "cell_type": "code",
      "metadata": {
        "id": "GBiwM5FOoiTe"
      },
      "source": [
        "from urllib.request import urlretrieve"
      ],
      "execution_count": 11,
      "outputs": []
    },
    {
      "cell_type": "code",
      "metadata": {
        "colab": {
          "base_uri": "https://localhost:8080/"
        },
        "id": "ssjmwbnsolWq",
        "outputId": "65cf9d19-dac0-4b7d-99ff-2099acedd4db"
      },
      "source": [
        "urlretrieve(url1,\"./data/loans1.txt\")"
      ],
      "execution_count": 12,
      "outputs": [
        {
          "output_type": "execute_result",
          "data": {
            "text/plain": [
              "('./data/loans1.txt', <http.client.HTTPMessage at 0x7f3cd4dd0c50>)"
            ]
          },
          "metadata": {},
          "execution_count": 12
        }
      ]
    },
    {
      "cell_type": "code",
      "metadata": {
        "colab": {
          "base_uri": "https://localhost:8080/"
        },
        "id": "q8Z1U9n5o2Q0",
        "outputId": "fe97df46-eb73-4e40-a760-ef7acb0b198b"
      },
      "source": [
        "urlretrieve(url2,\"./data/loans2.txt\")"
      ],
      "execution_count": 13,
      "outputs": [
        {
          "output_type": "execute_result",
          "data": {
            "text/plain": [
              "('./data/loans2.txt', <http.client.HTTPMessage at 0x7f3cd4dd4e90>)"
            ]
          },
          "metadata": {},
          "execution_count": 13
        }
      ]
    },
    {
      "cell_type": "code",
      "metadata": {
        "colab": {
          "base_uri": "https://localhost:8080/"
        },
        "id": "jczrBDfJo5VJ",
        "outputId": "81b3f8ad-e2c5-49a8-878e-faf426c8ea09"
      },
      "source": [
        "urlretrieve(url3,\"./data/loans3.txt\")"
      ],
      "execution_count": 14,
      "outputs": [
        {
          "output_type": "execute_result",
          "data": {
            "text/plain": [
              "('./data/loans3.txt', <http.client.HTTPMessage at 0x7f3cd4dd4490>)"
            ]
          },
          "metadata": {},
          "execution_count": 14
        }
      ]
    },
    {
      "cell_type": "markdown",
      "metadata": {
        "id": "W_oHnqGwYH9c"
      },
      "source": [
        "The `open` function also accepts a `mode` argument to specifies how we can interact with the file. The following options are supported:\n",
        "\n",
        "```\n",
        "    ========= ===============================================================\n",
        "    Character Meaning\n",
        "    --------- ---------------------------------------------------------------\n",
        "    'r'       open for reading (default)\n",
        "    'w'       open for writing, truncating the file first\n",
        "    'x'       create a new file and open it for writing\n",
        "    'a'       open for writing, appending to the end of the file if it exists\n",
        "    'b'       binary mode\n",
        "    't'       text mode (default)\n",
        "    '+'       open a disk file for updating (reading and writing)\n",
        "    'U'       universal newline mode (deprecated)\n",
        "    ========= ===============================================================\n",
        "```\n",
        "\n",
        "To view the contents of the file, we can use the `read` method of the file object."
      ]
    },
    {
      "cell_type": "markdown",
      "metadata": {
        "id": "Odr0tF9XpWQh"
      },
      "source": [
        "## Reading files line by line !!"
      ]
    },
    {
      "cell_type": "code",
      "metadata": {
        "id": "vJXkArTFpVNl"
      },
      "source": [
        "with open('./data/loans3.txt', 'r') as file3:\n",
        "    file3_lines = file3.readlines()"
      ],
      "execution_count": 15,
      "outputs": []
    },
    {
      "cell_type": "code",
      "metadata": {
        "id": "0B9HrAXTpVn3",
        "colab": {
          "base_uri": "https://localhost:8080/"
        },
        "outputId": "83c838ab-2b5c-47c3-cbd9-26411355f819"
      },
      "source": [
        "print(file3_lines)"
      ],
      "execution_count": 17,
      "outputs": [
        {
          "output_type": "stream",
          "name": "stdout",
          "text": [
            "['amount,duration,rate,down_payment\\n', '45230,48,0.07,4300\\n', '883000,16,0.14,\\n', '100000,12,0.1,\\n', '728400,120,0.12,100000\\n', '3637400,240,0.06,\\n', '82900,90,0.07,8900\\n', '316000,16,0.13,\\n', '15230,48,0.08,4300\\n', '991360,99,0.08,\\n', '323000,27,0.09,4720010000,36,0.08,20000\\n', '528400,120,0.11,100000\\n', '8633400,240,0.06,\\n', '12900,90,0.08,8900']\n"
          ]
        }
      ]
    },
    {
      "cell_type": "markdown",
      "metadata": {
        "id": "lhUMQtQlCoQA"
      },
      "source": [
        "The strip() removes spaces at the beginning and at the end."
      ]
    },
    {
      "cell_type": "code",
      "metadata": {
        "id": "zC4BUFFYpfnu",
        "colab": {
          "base_uri": "https://localhost:8080/",
          "height": 35
        },
        "outputId": "9e2229fa-ad1b-4cb3-9658-da4a447bcccf"
      },
      "source": [
        "file3_lines[0].strip()"
      ],
      "execution_count": 18,
      "outputs": [
        {
          "output_type": "execute_result",
          "data": {
            "application/vnd.google.colaboratory.intrinsic+json": {
              "type": "string"
            },
            "text/plain": [
              "'amount,duration,rate,down_payment'"
            ]
          },
          "metadata": {},
          "execution_count": 18
        }
      ]
    },
    {
      "cell_type": "code",
      "metadata": {
        "colab": {
          "base_uri": "https://localhost:8080/"
        },
        "id": "Mym-f5nkCm0V",
        "outputId": "a9e431b0-101c-419c-cbf7-265141236c87"
      },
      "source": [
        "os.listdir(\"./data/\")"
      ],
      "execution_count": 23,
      "outputs": [
        {
          "output_type": "execute_result",
          "data": {
            "text/plain": [
              "['check', 'loans2.txt', 'loans1.txt', 'new.txt', 'loans3.txt']"
            ]
          },
          "metadata": {},
          "execution_count": 23
        }
      ]
    },
    {
      "cell_type": "code",
      "metadata": {
        "colab": {
          "base_uri": "https://localhost:8080/"
        },
        "id": "5WJsF-5lD7gS",
        "outputId": "d090f9b6-8f59-4ec2-83d1-aa63ae9d7f25"
      },
      "source": [
        "with open(\"./data/loans2.txt\", 'r') as file2:\n",
        "  file2_contents=file2.readlines()\n",
        "file2_contents\n"
      ],
      "execution_count": 44,
      "outputs": [
        {
          "output_type": "execute_result",
          "data": {
            "text/plain": [
              "['amount,duration,rate,down_payment\\n',\n",
              " '828400,120,0.11,100000\\n',\n",
              " '4633400,240,0.06,\\n',\n",
              " '42900,90,0.08,8900\\n',\n",
              " '983000,16,0.14,\\n',\n",
              " '15230,48,0.07,4300']"
            ]
          },
          "metadata": {},
          "execution_count": 44
        }
      ]
    },
    {
      "cell_type": "code",
      "metadata": {
        "colab": {
          "base_uri": "https://localhost:8080/",
          "height": 35
        },
        "id": "QS6mHW8wGy6s",
        "outputId": "1ab55c66-7e0d-4787-bf44-2c5c722e543e"
      },
      "source": [
        "headline=file2_contents[0].strip()\n",
        "headline"
      ],
      "execution_count": 40,
      "outputs": [
        {
          "output_type": "execute_result",
          "data": {
            "application/vnd.google.colaboratory.intrinsic+json": {
              "type": "string"
            },
            "text/plain": [
              "'amount,duration,rate,down_payment'"
            ]
          },
          "metadata": {},
          "execution_count": 40
        }
      ]
    },
    {
      "cell_type": "markdown",
      "metadata": {
        "id": "9NZ_J036Eu0X"
      },
      "source": [
        "## Preprocessing the data in the file"
      ]
    },
    {
      "cell_type": "code",
      "metadata": {
        "id": "8y_ynVlpET_m"
      },
      "source": [
        "def parseHeaders(headline):\n",
        "  return headline.strip().split(',')\n"
      ],
      "execution_count": 81,
      "outputs": []
    },
    {
      "cell_type": "code",
      "metadata": {
        "id": "cLvYujNrGwCx"
      },
      "source": [
        "header =parseHeaders(headline)"
      ],
      "execution_count": 62,
      "outputs": []
    },
    {
      "cell_type": "code",
      "metadata": {
        "id": "qzQzNGyiG7rq"
      },
      "source": [
        "def parseValues(data):\n",
        "  values=[]\n",
        "  for item in data.strip().split(','):\n",
        "    if item=='':\n",
        "      values.append(0.00)\n",
        "    else:\n",
        "      values.append(float(item))\n",
        "  return values\n"
      ],
      "execution_count": 55,
      "outputs": []
    },
    {
      "cell_type": "code",
      "metadata": {
        "colab": {
          "base_uri": "https://localhost:8080/"
        },
        "id": "ua7lhUTiJVeS",
        "outputId": "01f0f884-801b-473c-b56e-d02f859e7528"
      },
      "source": [
        "\n",
        "data1 = parseValues(file2_contents[1])\n",
        "data2 = parseValues(file2_contents[2])\n",
        "data3 = parseValues(file2_contents[3])\n",
        "\n",
        "data1, data2, data3"
      ],
      "execution_count": 61,
      "outputs": [
        {
          "output_type": "execute_result",
          "data": {
            "text/plain": [
              "([828400.0, 120.0, 0.11, 100000.0],\n",
              " [4633400.0, 240.0, 0.06, 0.0],\n",
              " [42900.0, 90.0, 0.08, 8900.0])"
            ]
          },
          "metadata": {},
          "execution_count": 61
        }
      ]
    },
    {
      "cell_type": "code",
      "metadata": {
        "id": "e10fho5_K9qA"
      },
      "source": [
        "def create_dict(value, header):\n",
        "\n",
        "  result={}\n",
        "\n",
        "  for value, header in zip(value,header):\n",
        "    result[header]=value\n",
        "\n",
        "  return result\n",
        "\n"
      ],
      "execution_count": 59,
      "outputs": []
    },
    {
      "cell_type": "code",
      "metadata": {
        "colab": {
          "base_uri": "https://localhost:8080/"
        },
        "id": "s9sXQXe6MLTG",
        "outputId": "c0b2cb50-1c9e-450f-f592-ae3941504e8f"
      },
      "source": [
        "print(create_dict(data1,header),\"\\n\", create_dict(data2,header),\"\\n\", create_dict(data3,header))"
      ],
      "execution_count": 67,
      "outputs": [
        {
          "output_type": "stream",
          "name": "stdout",
          "text": [
            "{'amount': 828400.0, 'duration': 120.0, 'rate': 0.11, 'down_payment': 100000.0} \n",
            " {'amount': 4633400.0, 'duration': 240.0, 'rate': 0.06, 'down_payment': 0.0} \n",
            " {'amount': 42900.0, 'duration': 90.0, 'rate': 0.08, 'down_payment': 8900.0}\n"
          ]
        }
      ]
    },
    {
      "cell_type": "code",
      "metadata": {
        "id": "5UBsScZRN6Wq"
      },
      "source": [
        ""
      ],
      "execution_count": null,
      "outputs": []
    },
    {
      "cell_type": "code",
      "metadata": {
        "id": "13ATpEvtN6T-"
      },
      "source": [
        ""
      ],
      "execution_count": null,
      "outputs": []
    },
    {
      "cell_type": "code",
      "metadata": {
        "id": "H4rcXl28N6Rl"
      },
      "source": [
        ""
      ],
      "execution_count": null,
      "outputs": []
    },
    {
      "cell_type": "code",
      "metadata": {
        "colab": {
          "base_uri": "https://localhost:8080/",
          "height": 35
        },
        "id": "FLEkc8BdOB4j",
        "outputId": "0da0f889-6bb7-4f46-cfe2-ec3859455341"
      },
      "source": [
        "with open(\"./data/loans2.txt\", 'r') as file2:\n",
        "  file2_contents=file2.read()\n",
        "file2_contents"
      ],
      "execution_count": 68,
      "outputs": [
        {
          "output_type": "execute_result",
          "data": {
            "application/vnd.google.colaboratory.intrinsic+json": {
              "type": "string"
            },
            "text/plain": [
              "'amount,duration,rate,down_payment\\n828400,120,0.11,100000\\n4633400,240,0.06,\\n42900,90,0.08,8900\\n983000,16,0.14,\\n15230,48,0.07,4300'"
            ]
          },
          "metadata": {},
          "execution_count": 68
        }
      ]
    },
    {
      "cell_type": "code",
      "metadata": {
        "id": "bTaL23eEMi7g"
      },
      "source": [
        "def read_csv(path):\n",
        "  result=[]\n",
        "\n",
        "  with open(path) as file:\n",
        "    data=file.readlines()\n",
        "  \n",
        "  header= parseHeaders(data[0])\n",
        "\n",
        "  for i in data[1:]:\n",
        "    value = parseValues(i)\n",
        "\n",
        "    ans=create_dict(value,header)\n",
        "    result.append(ans)\n",
        "\n",
        "  return result\n",
        "\n",
        "\n"
      ],
      "execution_count": 72,
      "outputs": []
    },
    {
      "cell_type": "code",
      "metadata": {
        "colab": {
          "base_uri": "https://localhost:8080/"
        },
        "id": "fziVC15VPAYR",
        "outputId": "928e1d0a-f6f6-4881-ba93-9f9bf45863b1"
      },
      "source": [
        "read_csv(\"./data/loans2.txt\",)"
      ],
      "execution_count": 73,
      "outputs": [
        {
          "output_type": "execute_result",
          "data": {
            "text/plain": [
              "[{'amount': 828400.0,\n",
              "  'down_payment\\n': 100000.0,\n",
              "  'duration': 120.0,\n",
              "  'rate': 0.11},\n",
              " {'amount': 4633400.0, 'down_payment\\n': 0.0, 'duration': 240.0, 'rate': 0.06},\n",
              " {'amount': 42900.0, 'down_payment\\n': 8900.0, 'duration': 90.0, 'rate': 0.08},\n",
              " {'amount': 983000.0, 'down_payment\\n': 0.0, 'duration': 16.0, 'rate': 0.14},\n",
              " {'amount': 15230.0, 'down_payment\\n': 4300.0, 'duration': 48.0, 'rate': 0.07}]"
            ]
          },
          "metadata": {},
          "execution_count": 73
        }
      ]
    },
    {
      "cell_type": "markdown",
      "metadata": {
        "id": "mVmKs9eAPhE8"
      },
      "source": [
        "# **All Functions for processing the data in the file.**"
      ]
    },
    {
      "cell_type": "code",
      "metadata": {
        "id": "2AUceOJoPgo-"
      },
      "source": [
        "\n",
        "def parseHeaders(headline):\n",
        "  return headline.strip().split(',')\n",
        "\n",
        "\n",
        "def parseValues(data):\n",
        "  values=[]\n",
        "  for item in data.strip().split(','):\n",
        "    if item=='':\n",
        "      values.append(0.00)\n",
        "    else:\n",
        "      values.append(float(item))\n",
        "  return values\n",
        "\n",
        "\n",
        "def create_dict(value, header):\n",
        "\n",
        "  result={}\n",
        "\n",
        "  for value, header in zip(value,header):\n",
        "    result[header]=value\n",
        "\n",
        "  return result\n",
        "\n",
        "\n",
        "def read_csv(path):\n",
        "  result=[]\n",
        "\n",
        "  with open(path) as file:\n",
        "    data=file.readlines()\n",
        "  \n",
        "  header = parseHeaders(data[0])\n",
        "\n",
        "  for i in data[1:]:\n",
        "    value = parseValues(i)\n",
        "\n",
        "    ans=create_dict(value,header)\n",
        "    result.append(ans)\n",
        "\n",
        "  return result\n"
      ],
      "execution_count": 82,
      "outputs": []
    },
    {
      "cell_type": "code",
      "metadata": {
        "colab": {
          "base_uri": "https://localhost:8080/"
        },
        "id": "LgpBgNgrQi6O",
        "outputId": "18582165-31c5-43ae-d92c-e705692ee099"
      },
      "source": [
        "os.listdir(\".\")"
      ],
      "execution_count": 75,
      "outputs": [
        {
          "output_type": "execute_result",
          "data": {
            "text/plain": [
              "['.config', 'data', 'sample_data']"
            ]
          },
          "metadata": {},
          "execution_count": 75
        }
      ]
    },
    {
      "cell_type": "code",
      "metadata": {
        "colab": {
          "base_uri": "https://localhost:8080/"
        },
        "id": "HH0I8JBjQlQ2",
        "outputId": "4272a6a5-dadb-497f-beb9-9979d2a36a40"
      },
      "source": [
        "os.listdir(\"./data\")"
      ],
      "execution_count": 76,
      "outputs": [
        {
          "output_type": "execute_result",
          "data": {
            "text/plain": [
              "['check', 'loans2.txt', 'loans1.txt', 'new.txt', 'loans3.txt']"
            ]
          },
          "metadata": {},
          "execution_count": 76
        }
      ]
    },
    {
      "cell_type": "code",
      "metadata": {
        "colab": {
          "base_uri": "https://localhost:8080/"
        },
        "id": "Pn1wkKAZQng4",
        "outputId": "3225bda7-016a-4d03-fb90-2798a7913a29"
      },
      "source": [
        "print(read_csv(\"./data/loans1.txt\"))"
      ],
      "execution_count": 83,
      "outputs": [
        {
          "output_type": "stream",
          "name": "stdout",
          "text": [
            "[{'amount': 100000.0, 'duration': 36.0, 'rate': 0.08, 'down_payment': 20000.0}, {'amount': 200000.0, 'duration': 12.0, 'rate': 0.1, 'down_payment': 0.0}, {'amount': 628400.0, 'duration': 120.0, 'rate': 0.12, 'down_payment': 100000.0}, {'amount': 4637400.0, 'duration': 240.0, 'rate': 0.06, 'down_payment': 0.0}, {'amount': 42900.0, 'duration': 90.0, 'rate': 0.07, 'down_payment': 8900.0}, {'amount': 916000.0, 'duration': 16.0, 'rate': 0.13, 'down_payment': 0.0}, {'amount': 45230.0, 'duration': 48.0, 'rate': 0.08, 'down_payment': 4300.0}, {'amount': 991360.0, 'duration': 99.0, 'rate': 0.08, 'down_payment': 0.0}, {'amount': 423000.0, 'duration': 27.0, 'rate': 0.09, 'down_payment': 47200.0}]\n"
          ]
        }
      ]
    },
    {
      "cell_type": "code",
      "metadata": {
        "id": "HR7lgC8BQsrN"
      },
      "source": [
        ""
      ],
      "execution_count": null,
      "outputs": []
    }
  ]
}